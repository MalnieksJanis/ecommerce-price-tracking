{
 "cells": [
  {
   "cell_type": "code",
   "execution_count": null,
   "metadata": {
    "vscode": {
     "languageId": "plaintext"
    }
   },
   "outputs": [],
   "source": [
    "import pandas as pd\n",
    "import matplotlib.pyplot as plt\n",
    "import seaborn as sns\n",
    "\n",
    "# Ielādējam datus no CSV\n",
    "df = pd.read_csv('data/cleaned/products_data_cleaned.csv')\n",
    "\n",
    "# Izveidojam vizualizāciju par cenu sadalījumu\n",
    "plt.figure(figsize=(10,6))\n",
    "sns.histplot(df['Price'], kde=True, color='blue')\n",
    "plt.title('Price Distribution of Products')\n",
    "plt.xlabel('Price')\n",
    "plt.ylabel('Frequency')\n",
    "plt.show()\n"
   ]
  }
 ],
 "metadata": {
  "language_info": {
   "name": "python"
  }
 },
 "nbformat": 4,
 "nbformat_minor": 2
}
